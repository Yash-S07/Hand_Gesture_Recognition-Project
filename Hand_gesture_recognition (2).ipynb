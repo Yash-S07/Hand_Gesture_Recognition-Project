{
  "cells": [
    {
      "cell_type": "code",
      "execution_count": null,
      "metadata": {
        "id": "5scS9FgS0HFM"
      },
      "outputs": [],
      "source": [
        "import numpy as np\n",
        "import pandas as pd\n",
        "import tensorflow as tf\n",
        "import matplotlib.pyplot as plt\n",
        "import os\n",
        "import cv2\n",
        "from plotly.subplots import make_subplots\n",
        "from sklearn import preprocessing\n",
        "import random\n",
        "import warnings\n",
        "warnings.filterwarnings(\"ignore\")\n"
      ]
    },
    {
      "cell_type": "code",
      "execution_count": null,
      "metadata": {
        "id": "Lq-KNHdj0q0-"
      },
      "outputs": [],
      "source": [
        "def Create_directory_DataFrame():\n",
        "  df = pd.DataFrame(columns = ['Class','Location'])\n",
        "  basedir = \"/content/drive/MyDrive/HGM-4/HGM-1.0/\"\n",
        "  for folder in os.listdir(basedir):\n",
        "    for Class in os.listdir(basedir + folder + '/'):\n",
        "      for loc in os.listdir(basedir + folder+ '/'  + Class + '/'):\n",
        "        df = df.append({'Class':Class,'Location':basedir + folder+ '/' + Class + '/'+ loc},ignore_index = True)\n",
        "  df = df.sample(frac = 1)\n",
        "  return df"
      ]
    },
    {
      "cell_type": "code",
      "execution_count": null,
      "metadata": {
        "colab": {
          "base_uri": "https://localhost:8080/",
          "height": 345
        },
        "id": "94A9pF8i0rUg",
        "outputId": "c4e63fa8-3367-482e-bdb3-48e49b351f6a"
      },
      "outputs": [
        {
          "output_type": "error",
          "ename": "KeyboardInterrupt",
          "evalue": "ignored",
          "traceback": [
            "\u001b[0;31m---------------------------------------------------------------------------\u001b[0m",
            "\u001b[0;31mKeyboardInterrupt\u001b[0m                         Traceback (most recent call last)",
            "\u001b[0;32m<ipython-input-4-2b4d92d4c248>\u001b[0m in \u001b[0;36m<cell line: 1>\u001b[0;34m()\u001b[0m\n\u001b[0;32m----> 1\u001b[0;31m \u001b[0mdf\u001b[0m \u001b[0;34m=\u001b[0m \u001b[0mCreate_directory_DataFrame\u001b[0m\u001b[0;34m(\u001b[0m\u001b[0;34m)\u001b[0m\u001b[0;34m\u001b[0m\u001b[0;34m\u001b[0m\u001b[0m\n\u001b[0m\u001b[1;32m      2\u001b[0m \u001b[0mprint\u001b[0m\u001b[0;34m(\u001b[0m\u001b[0mdf\u001b[0m\u001b[0;34m.\u001b[0m\u001b[0mshape\u001b[0m\u001b[0;34m)\u001b[0m\u001b[0;34m\u001b[0m\u001b[0;34m\u001b[0m\u001b[0m\n\u001b[1;32m      3\u001b[0m \u001b[0mdf\u001b[0m\u001b[0;34m.\u001b[0m\u001b[0mhead\u001b[0m\u001b[0;34m(\u001b[0m\u001b[0;34m)\u001b[0m\u001b[0;34m\u001b[0m\u001b[0;34m\u001b[0m\u001b[0m\n",
            "\u001b[0;32m<ipython-input-3-0486a112f88f>\u001b[0m in \u001b[0;36mCreate_directory_DataFrame\u001b[0;34m()\u001b[0m\n\u001b[1;32m      4\u001b[0m   \u001b[0;32mfor\u001b[0m \u001b[0mfolder\u001b[0m \u001b[0;32min\u001b[0m \u001b[0mos\u001b[0m\u001b[0;34m.\u001b[0m\u001b[0mlistdir\u001b[0m\u001b[0;34m(\u001b[0m\u001b[0mbasedir\u001b[0m\u001b[0;34m)\u001b[0m\u001b[0;34m:\u001b[0m\u001b[0;34m\u001b[0m\u001b[0;34m\u001b[0m\u001b[0m\n\u001b[1;32m      5\u001b[0m     \u001b[0;32mfor\u001b[0m \u001b[0mClass\u001b[0m \u001b[0;32min\u001b[0m \u001b[0mos\u001b[0m\u001b[0;34m.\u001b[0m\u001b[0mlistdir\u001b[0m\u001b[0;34m(\u001b[0m\u001b[0mbasedir\u001b[0m \u001b[0;34m+\u001b[0m \u001b[0mfolder\u001b[0m \u001b[0;34m+\u001b[0m \u001b[0;34m'/'\u001b[0m\u001b[0;34m)\u001b[0m\u001b[0;34m:\u001b[0m\u001b[0;34m\u001b[0m\u001b[0;34m\u001b[0m\u001b[0m\n\u001b[0;32m----> 6\u001b[0;31m       \u001b[0;32mfor\u001b[0m \u001b[0mloc\u001b[0m \u001b[0;32min\u001b[0m \u001b[0mos\u001b[0m\u001b[0;34m.\u001b[0m\u001b[0mlistdir\u001b[0m\u001b[0;34m(\u001b[0m\u001b[0mbasedir\u001b[0m \u001b[0;34m+\u001b[0m \u001b[0mfolder\u001b[0m\u001b[0;34m+\u001b[0m \u001b[0;34m'/'\u001b[0m  \u001b[0;34m+\u001b[0m \u001b[0mClass\u001b[0m \u001b[0;34m+\u001b[0m \u001b[0;34m'/'\u001b[0m\u001b[0;34m)\u001b[0m\u001b[0;34m:\u001b[0m\u001b[0;34m\u001b[0m\u001b[0;34m\u001b[0m\u001b[0m\n\u001b[0m\u001b[1;32m      7\u001b[0m         \u001b[0mdf\u001b[0m \u001b[0;34m=\u001b[0m \u001b[0mdf\u001b[0m\u001b[0;34m.\u001b[0m\u001b[0mappend\u001b[0m\u001b[0;34m(\u001b[0m\u001b[0;34m{\u001b[0m\u001b[0;34m'Class'\u001b[0m\u001b[0;34m:\u001b[0m\u001b[0mClass\u001b[0m\u001b[0;34m,\u001b[0m\u001b[0;34m'Location'\u001b[0m\u001b[0;34m:\u001b[0m\u001b[0mbasedir\u001b[0m \u001b[0;34m+\u001b[0m \u001b[0mfolder\u001b[0m\u001b[0;34m+\u001b[0m \u001b[0;34m'/'\u001b[0m \u001b[0;34m+\u001b[0m \u001b[0mClass\u001b[0m \u001b[0;34m+\u001b[0m \u001b[0;34m'/'\u001b[0m\u001b[0;34m+\u001b[0m \u001b[0mloc\u001b[0m\u001b[0;34m}\u001b[0m\u001b[0;34m,\u001b[0m\u001b[0mignore_index\u001b[0m \u001b[0;34m=\u001b[0m \u001b[0;32mTrue\u001b[0m\u001b[0;34m)\u001b[0m\u001b[0;34m\u001b[0m\u001b[0;34m\u001b[0m\u001b[0m\n\u001b[1;32m      8\u001b[0m   \u001b[0mdf\u001b[0m \u001b[0;34m=\u001b[0m \u001b[0mdf\u001b[0m\u001b[0;34m.\u001b[0m\u001b[0msample\u001b[0m\u001b[0;34m(\u001b[0m\u001b[0mfrac\u001b[0m \u001b[0;34m=\u001b[0m \u001b[0;36m1\u001b[0m\u001b[0;34m)\u001b[0m\u001b[0;34m\u001b[0m\u001b[0;34m\u001b[0m\u001b[0m\n",
            "\u001b[0;31mKeyboardInterrupt\u001b[0m: "
          ]
        }
      ],
      "source": [
        "df = Create_directory_DataFrame()\n",
        "print(df.shape)\n",
        "df.head()"
      ]
    },
    {
      "cell_type": "code",
      "source": [
        "df.Class.unique().size"
      ],
      "metadata": {
        "id": "MEM8LdF7ROTG"
      },
      "execution_count": null,
      "outputs": []
    },
    {
      "cell_type": "markdown",
      "metadata": {
        "id": "8F32FswGcsat"
      },
      "source": [
        "Visualizing Data"
      ]
    },
    {
      "cell_type": "code",
      "execution_count": null,
      "metadata": {
        "id": "oNGEpnJDzEUw"
      },
      "outputs": [],
      "source": [
        "count = 1\n",
        "f = plt.figure(figsize=(50,13))\n",
        "for Class in df['Class'].unique():\n",
        "    seg = df[df['Class']==Class]\n",
        "    address =  seg.sample().iloc[0]['Location']\n",
        "    img = cv2.imread(address,0,)\n",
        "    ax = f.add_subplot(2, 13,count)\n",
        "    ax = plt.imshow(img)\n",
        "    ax = plt.title(Class,fontsize= 30)\n",
        "    count = count + 1\n",
        "plt.suptitle(\"Hand Sign Images\", size = 32)\n",
        "plt.show()"
      ]
    },
    {
      "cell_type": "code",
      "execution_count": null,
      "metadata": {
        "id": "aPlSpgLJ0Thu"
      },
      "outputs": [],
      "source": [
        "img.shape"
      ]
    },
    {
      "cell_type": "code",
      "execution_count": null,
      "metadata": {
        "id": "9kcoXRcRbBwz"
      },
      "outputs": [],
      "source": [
        "# Defining Constraints:\n",
        "w,h = 64,64\n",
        "final_class = 26"
      ]
    },
    {
      "cell_type": "markdown",
      "metadata": {
        "id": "up1VH5sGcZCS"
      },
      "source": [
        "**Data Creation:\\\\**"
      ]
    },
    {
      "cell_type": "code",
      "execution_count": null,
      "metadata": {
        "id": "_Fl8vxi2bJg0"
      },
      "outputs": [],
      "source": [
        "from tqdm import tqdm\n",
        "train_image = []\n",
        "for location in tqdm(df.iloc[:]['Location']):\n",
        "  img = cv2.imread(location,0)\n",
        "  img = cv2.resize(img,(w,h),interpolation=cv2.INTER_AREA)\n",
        "  img = img.reshape(w,h,1)\n",
        "  train_image.append(img)\n",
        "X = np.array(train_image)"
      ]
    },
    {
      "cell_type": "code",
      "execution_count": null,
      "metadata": {
        "id": "QgN-Oukwb1XJ"
      },
      "outputs": [],
      "source": [
        "from sklearn.preprocessing import OneHotEncoder\n",
        "y = np.array(df.iloc[:]['Class'])\n",
        "y = y.reshape(y.shape[0],1)\n",
        "enc = OneHotEncoder(handle_unknown = \"ignore\")\n",
        "enc.fit(y)\n",
        "# print(enc.categories)\n",
        "print(enc.categories_)"
      ]
    },
    {
      "cell_type": "code",
      "execution_count": null,
      "metadata": {
        "id": "JKzGSSuqj4O0"
      },
      "outputs": [],
      "source": [
        "y = enc.transform(y).toarray()"
      ]
    },
    {
      "cell_type": "code",
      "execution_count": null,
      "metadata": {
        "id": "PYOu9JfSj_mX"
      },
      "outputs": [],
      "source": [
        "\n",
        "print('Data   :   '+str(X.shape))\n",
        "print('Output :   '+str(y.shape))"
      ]
    },
    {
      "cell_type": "code",
      "execution_count": null,
      "metadata": {
        "id": "EMQ3wdD-kJTm"
      },
      "outputs": [],
      "source": [
        "plt.figure(figsize = (25,8))\n",
        "plt.imshow(X[66].reshape(w,h))\n",
        "plt.title(enc.inverse_transform(y[0].reshape(1,26))[0][0],size = 20)\n",
        "plt.show()"
      ]
    },
    {
      "cell_type": "markdown",
      "metadata": {
        "id": "cplpv_14kmnv"
      },
      "source": [
        "Segmentation in training and test data"
      ]
    },
    {
      "cell_type": "code",
      "execution_count": null,
      "metadata": {
        "id": "qTk1Kd5Mk1pk"
      },
      "outputs": [],
      "source": [
        "from sklearn.model_selection import train_test_split\n",
        "X_train,X_test,y_train,y_test = train_test_split(X,y,random_state = 42,test_size = 0.2,stratify = y)"
      ]
    },
    {
      "cell_type": "code",
      "execution_count": null,
      "metadata": {
        "id": "uSLL9zyilIpD"
      },
      "outputs": [],
      "source": [
        "print('Train data    :'+str(X_train.shape))\n",
        "print('Test data     :'+str(X_test.shape))\n",
        "print('Train Output  :'+str(y_train.shape))\n",
        "print('Test Output   :'+str(y_test.shape))"
      ]
    },
    {
      "cell_type": "markdown",
      "metadata": {
        "id": "Z6FI4ZYJlKy6"
      },
      "source": [
        "MODEL"
      ]
    },
    {
      "cell_type": "code",
      "execution_count": null,
      "metadata": {
        "id": "IehhT9GtlPux"
      },
      "outputs": [],
      "source": [
        "# Model Blocks:\n",
        "def conv_block(filters):\n",
        "  block = tf.keras.Sequential([\n",
        "      tf.keras.layers.SeparableConv2D(filters,3,activation='relu',padding = 'same'),\n",
        "      tf.keras.layers.SeparableConv2D(filters,3,activation='relu',padding = 'same'),\n",
        "      tf.keras.layers.BatchNormalization(),\n",
        "      tf.keras.layers.MaxPool2D()\n",
        "  ])\n",
        "\n",
        "  return block\n",
        "\n",
        "def dense_block(units,dropout_rate):\n",
        "  block = tf.keras.Sequential([\n",
        "      tf.keras.layers.Dense(units,activation = 'relu'),\n",
        "      tf.keras.layers.BatchNormalization(),\n",
        "      tf.keras.layers.Dropout(dropout_rate)\n",
        "  ])\n",
        "\n",
        "  return block\n",
        "\n",
        "\n",
        "def build_model(act,final_class,w,h):\n",
        "  model = tf.keras.Sequential([\n",
        "      tf.keras.Input(shape = (w,h,1)),\n",
        "      tf.keras.layers.Conv2D(16,3,activation=act,padding= 'same'),\n",
        "      tf.keras.layers.Conv2D(16,3,activation=act,padding= 'same'),\n",
        "      tf.keras.layers.MaxPool2D(),\n",
        "      conv_block(32),\n",
        "      conv_block(64),\n",
        "\n",
        "      conv_block(128),\n",
        "      tf.keras.layers.Dropout(0.2),\n",
        "\n",
        "      conv_block(256),\n",
        "      tf.keras.layers.Dropout(0.2),\n",
        "\n",
        "      tf.keras.layers.Flatten(),\n",
        "      dense_block(512,0.7),\n",
        "      dense_block(128,0.5),\n",
        "      dense_block(64,0.3),\n",
        "\n",
        "      tf.keras.layers.Dense(final_class,activation='sigmoid')\n",
        "  ])\n",
        "\n",
        "  return model\n"
      ]
    },
    {
      "cell_type": "code",
      "execution_count": null,
      "metadata": {
        "id": "OzcIDK5poHRt"
      },
      "outputs": [],
      "source": [
        "def wrap(Training_Output_Results,Opt,Act,history):\n",
        "  epoch = len(history.history['loss'])\n",
        "  epochs = list(np.arange(1,epoch+1,1))\n",
        "  Optimizer = np.repeat(Opt,epoch).tolist()\n",
        "  Activation = np.repeat(Act,epoch).tolist()\n",
        "  cumiliated_res = {}\n",
        "  cumiliated_res['Epochs']= epochs\n",
        "  cumiliated_res['Optimizer'] = Optimizer\n",
        "  cumiliated_res['Activation_Function']  = Activation\n",
        "  cumiliated_res['Train_Loss'] = history.history['loss']\n",
        "  cumiliated_res['Train_Accuracy'] = history.history['accuracy']\n",
        "  cumiliated_res['Train_Precision'] = history.history['precision']\n",
        "  cumiliated_res['Train_Recall'] = history.history['recall']\n",
        "  cumiliated_res['Val_Loss'] = history.history['val_loss']\n",
        "  cumiliated_res['Val_Accuracy'] = history.history['val_accuracy']\n",
        "  cumiliated_res['Val_Precision']=history.history['val_precision']\n",
        "  cumiliated_res['Val_Recall']=history.history['val_recall']\n",
        "  convertDict = pd.DataFrame(cumiliated_res)\n",
        "  Training_Output_Results = Training_Output_Results.append(convertDict)\n",
        "\n",
        "  return Training_Output_Results"
      ]
    },
    {
      "cell_type": "code",
      "execution_count": null,
      "metadata": {
        "id": "-D9Zl0Ggqoov"
      },
      "outputs": [],
      "source": [
        "Optimizers = ['RMSprop','Adam','Adadelta','Adagrad']\n",
        "Activation_Functions = ['relu','sigmoid','softmax','tanh','softsign','selu','elu']"
      ]
    },
    {
      "cell_type": "markdown",
      "metadata": {
        "id": "uyRGRD9QrDMO"
      },
      "source": [
        "---------------------------------------------------------------------------------------------------------------------------------------------"
      ]
    },
    {
      "cell_type": "markdown",
      "metadata": {
        "id": "9LmcX-90rCkO"
      },
      "source": [
        "OPTIMIZER ANALYTICS"
      ]
    },
    {
      "cell_type": "code",
      "execution_count": null,
      "metadata": {
        "id": "RRsQ3VSuq7l9"
      },
      "outputs": [],
      "source": [
        "Training_Output_Results =pd.DataFrame(columns=['Epochs','Optimizer','Activation_Function','Train_Loss','Train_Accuracy','Train_Precision','Train_Recall','Val_Loss','Val_Accuracy','Val_Precision','Val_Recall'])\n",
        "\n",
        "def Optimize_verify(Training_Output_Results):\n",
        "  for opt in Optimizers:\n",
        "    model = build_model(Activation_Functions[0],final_class,w,h)\n",
        "    METRICS = [\n",
        "                'accuracy',\n",
        "                tf.keras.metrics.Precision(name = 'precision'),\n",
        "                tf.keras.metrics.Recall(name = 'recall')\n",
        "    ]\n",
        "    model.compile(\n",
        "        optimizer = opt,\n",
        "        loss = 'categorical_crossentropy',\n",
        "        metrics = METRICS\n",
        "    )\n",
        "    history = model.fit(X_train,y_train,epochs = 10,validation_split = 0.3,batch_size = 15,verbose = 1,shuffle = True)\n",
        "    Training_Output_Results = wrap(Training_Output_Results,opt,Activation_Functions[0],history)\n",
        "    print(\"Done for \" + opt )\n",
        "  return Training_Output_Results\n",
        "\n",
        "Training_Output_Results = Optimize_verify(Training_Output_Results)\n"
      ]
    },
    {
      "cell_type": "code",
      "execution_count": null,
      "metadata": {
        "id": "gPMJQj0Msq5X"
      },
      "outputs": [],
      "source": [
        "Training_Output_Results = Training_Output_Results.sample(frac = 1)\n",
        "print(Training_Output_Results.shape)\n",
        "Training_Output_Results.to_csv('Optimizer_64*64.csv',index = False)\n",
        "Training_Output_Results.head()"
      ]
    },
    {
      "cell_type": "markdown",
      "metadata": {
        "id": "Wk6i_08aOVuC"
      },
      "source": [
        "ACTIVATION ANALYTICS"
      ]
    },
    {
      "cell_type": "code",
      "source": [
        "print(Activation_Functions)"
      ],
      "metadata": {
        "id": "Gnp7NFveFa0i"
      },
      "execution_count": null,
      "outputs": []
    },
    {
      "cell_type": "code",
      "execution_count": null,
      "metadata": {
        "id": "JaLdU222OZNL"
      },
      "outputs": [],
      "source": [
        "Training_Output_Results = pd.DataFrame(columns = ['Epochs','Optimizer','Activation_Function','Train_Loss','Train_Accuracy','Train_Precision','Train_Recall','Val_Loss','Val_Accuracy','Val_Precision','Val_Recall'])\n",
        "def Activation_verify(Training_Output_Results):\n",
        "  for act in Activation_Functions:\n",
        "    model = build_model(act,final_class,w,h)\n",
        "    METRICS = [\n",
        "              'accuracy',\n",
        "              tf.keras.metrics.Precision(name = 'precision'),\n",
        "              tf.keras.metrics.Recall(name = 'recall')\n",
        "    ]\n",
        "    model.compile(\n",
        "        optimizer = Optimizers[0],\n",
        "        loss = 'categorical_crossentropy',\n",
        "        metrics = METRICS\n",
        "    )\n",
        "    history = model.fit(X_train,y_train,epochs = 10,validation_split = 0.3,batch_size = 15,verbose = 1,shuffle = True)\n",
        "    Training_Output_Results = wrap(Training_Output_Results,Optimizers[0],act,history)\n",
        "    print(\"done for \" + act+ \"\\n\")\n",
        "  return Training_Output_Results\n",
        "\n",
        "Training_Output_Results = Activation_verify(Training_Output_Results)\n"
      ]
    },
    {
      "cell_type": "code",
      "execution_count": null,
      "metadata": {
        "id": "8GhrFfjnSJto"
      },
      "outputs": [],
      "source": [
        "Training_Output_Results = Training_Output_Results.sample(frac = 1)\n",
        "print(Training_Output_Results.shape)\n",
        "\n",
        "Training_Output_Results.to_csv('Activation_64*64_data.csv', index = False)\n",
        "Training_Output_Results.head()\n"
      ]
    },
    {
      "cell_type": "markdown",
      "metadata": {
        "id": "-AY_1wnYJHsy"
      },
      "source": [
        "PLOTTING:"
      ]
    },
    {
      "cell_type": "code",
      "execution_count": null,
      "metadata": {
        "id": "rre_gZ6yJKDS"
      },
      "outputs": [],
      "source": [
        "opt = pd.read_csv('Optimizer_64*64.csv')\n",
        "act = pd.read_csv('Activation_64*64_data.csv')"
      ]
    },
    {
      "cell_type": "markdown",
      "metadata": {
        "id": "JH7779XQJXIA"
      },
      "source": [
        "OPTIMIZATION"
      ]
    },
    {
      "cell_type": "code",
      "execution_count": null,
      "metadata": {
        "id": "0EiN-C_tJZHh"
      },
      "outputs": [],
      "source": [
        "import plotly.express as px\n",
        "import plotly.offline as pyo\n",
        "import plotly as py\n",
        "from IPython.display import HTML\n",
        "import statsmodels.api as sm\n",
        "scatterplot = px.area(\n",
        "                    data_frame = opt,\n",
        "                    x = \"Epochs\",\n",
        "                    y = \"Train_Accuracy\",\n",
        "                    color = \"Optimizer\",\n",
        "                    title = \"Train_Accuracy\",\n",
        "                    template = 'presentation'\n",
        ")\n",
        "\n",
        "pyo.iplot(scatterplot,filename = 'Opt_train_acc')\n",
        "scatterplot.write_html(\"plotly_plot.html\")\n",
        "\n",
        "# Display the HTML file within the Jupyter Notebook\n",
        "HTML(filename=\"plotly_plot.html\")"
      ]
    },
    {
      "cell_type": "code",
      "execution_count": null,
      "metadata": {
        "id": "OgZEo82QKDJ-"
      },
      "outputs": [],
      "source": [
        "scatterplot = px.area(\n",
        "                  data_frame = opt,\n",
        "                  x = \"Epochs\",\n",
        "                  y = \"Train_Loss\",\n",
        "                  color =\"Optimizer\",\n",
        "                  title = 'Train Loss',\n",
        "                  template = 'presentation'\n",
        ")\n",
        "\n",
        "pyo.iplot(scatterplot,filename = 'Opt_train_loss')\n",
        "scatterplot.write_html(\"plotly_plot.html\")\n",
        "\n",
        "# Display the HTML file within the Jupyter Notebook\n",
        "HTML(filename=\"plotly_plot.html\")"
      ]
    },
    {
      "cell_type": "code",
      "execution_count": null,
      "metadata": {
        "id": "LufwZKouNigw"
      },
      "outputs": [],
      "source": [
        "scatterplot = px.area(\n",
        "                  data_frame = opt,\n",
        "                  x = \"Epochs\",\n",
        "                  y = \"Train_Precision\",\n",
        "                  color = \"Optimizer\",\n",
        "                  title = 'Train Precision',\n",
        "                  template = 'presentation'\n",
        ")\n",
        "\n",
        "pyo.iplot(scatterplot,filename = 'Opt_train_prec')\n",
        "scatterplot.write_html(\"plotly_plot.html\")\n",
        "\n",
        "# Display the HTML file within the Jupyter Notebook\n",
        "HTML(filename=\"plotly_plot.html\")\n"
      ]
    },
    {
      "cell_type": "code",
      "execution_count": null,
      "metadata": {
        "id": "kTH-ReZ_N7z7"
      },
      "outputs": [],
      "source": [
        "scatterplot = px.area(\n",
        "                  data_frame = opt,\n",
        "                  x = \"Epochs\",\n",
        "                  y = \"Train_Recall\",\n",
        "                  color =\"Optimizer\",\n",
        "                  title = 'Train Recall',\n",
        "                  template = 'presentation'\n",
        ")\n",
        "\n",
        "pyo.iplot(scatterplot,filename = 'Opt_train_recall')\n",
        "scatterplot.write_html(\"plotly_plot.html\")\n",
        "\n",
        "# Display the HTML file within the Jupyter Notebook\n",
        "HTML(filename=\"plotly_plot.html\")"
      ]
    },
    {
      "cell_type": "code",
      "execution_count": null,
      "metadata": {
        "id": "VWvQrIR_NCf0"
      },
      "outputs": [],
      "source": [
        "scatterplot = px.area(\n",
        "                  data_frame = opt,\n",
        "                  x = \"Epochs\",\n",
        "                  y = \"Val_Accuracy\",\n",
        "                  color =\"Optimizer\",\n",
        "                  title = 'Validation Accuracy',\n",
        "                  template = 'presentation'\n",
        ")\n",
        "\n",
        "pyo.iplot(scatterplot,filename = 'Opt_val_accuracy')\n",
        "scatterplot.write_html(\"plotly_plot.html\")\n",
        "\n",
        "# Display the HTML file within the Jupyter Notebook\n",
        "HTML(filename=\"plotly_plot.html\")"
      ]
    },
    {
      "cell_type": "code",
      "execution_count": null,
      "metadata": {
        "id": "TVVJVioYN5H8"
      },
      "outputs": [],
      "source": [
        "scatterplot = px.area(\n",
        "                  data_frame = opt,\n",
        "                  x = \"Epochs\",\n",
        "                  y = \"Val_Precision\",\n",
        "                  color =\"Optimizer\",\n",
        "                  facet_col='Optimizer',\n",
        "                  title = 'Validation Precision',\n",
        "                  template = 'presentation'\n",
        ")\n",
        "\n",
        "pyo.iplot(scatterplot,filename = 'Opt_val_prec')\n",
        "scatterplot.write_html(\"plotly_plot.html\")\n",
        "\n",
        "# Display the HTML file within the Jupyter Notebook\n",
        "HTML(filename=\"plotly_plot.html\")"
      ]
    },
    {
      "cell_type": "code",
      "execution_count": null,
      "metadata": {
        "id": "f1EiRn8xOKK0"
      },
      "outputs": [],
      "source": [
        "scatterplot = px.area(\n",
        "                  data_frame = opt,\n",
        "                  x = \"Epochs\",\n",
        "                  y = \"Val_Recall\",\n",
        "                  color =\"Optimizer\",\n",
        "                  facet_col='Optimizer',\n",
        "                  title = 'Validation Recall',\n",
        "                  template = 'presentation'\n",
        ")\n",
        "\n",
        "pyo.iplot(scatterplot,filename = 'Opt_val_Recall')\n",
        "scatterplot.write_html(\"plotly_plot.html\")\n",
        "\n",
        "# Display the HTML file within the Jupyter Notebook\n",
        "HTML(filename=\"plotly_plot.html\")"
      ]
    },
    {
      "cell_type": "code",
      "execution_count": null,
      "metadata": {
        "id": "pUxan3fXOiZi"
      },
      "outputs": [],
      "source": [
        "scatterplot = px.area(\n",
        "                  data_frame = opt,\n",
        "                  x = \"Epochs\",\n",
        "                  y = \"Val_Loss\",\n",
        "                  color =\"Optimizer\",\n",
        "                  title = 'Validation Loss',\n",
        "                  template = 'presentation'\n",
        ")\n",
        "\n",
        "pyo.iplot(scatterplot,filename = 'Opt_val_Loss')\n",
        "scatterplot.write_html(\"plotly_plot.html\")\n",
        "\n",
        "# Display the HTML file within the Jupyter Notebook\n",
        "HTML(filename=\"plotly_plot.html\")"
      ]
    },
    {
      "cell_type": "markdown",
      "metadata": {
        "id": "RzgySDHFx13Z"
      },
      "source": [
        "**Activation Functions**"
      ]
    },
    {
      "cell_type": "code",
      "execution_count": null,
      "metadata": {
        "id": "kF_8LihCx7O2"
      },
      "outputs": [],
      "source": [
        "scatterplot = px.area(\n",
        "                  data_frame = act,\n",
        "                  x = \"Epochs\",\n",
        "                  y = \"Train_Accuracy\",\n",
        "                  color =\"Activation_Function\",\n",
        "                  title = 'Train Accuracy',\n",
        "                  template = 'presentation'\n",
        ")\n",
        "\n",
        "pyo.iplot(scatterplot,filename = 'Act_train_acc')\n",
        "scatterplot.write_html(\"plotly_plot.html\")\n",
        "\n",
        "# Display the HTML file within the Jupyter Notebook\n",
        "HTML(filename=\"plotly_plot.html\")"
      ]
    },
    {
      "cell_type": "code",
      "execution_count": null,
      "metadata": {
        "id": "qqSdW-rEyWsI"
      },
      "outputs": [],
      "source": [
        "scatterplot = px.area(\n",
        "                  data_frame = act,\n",
        "                  x = \"Epochs\",\n",
        "                  y = \"Train_Loss\",\n",
        "                  color =\"Activation_Function\",\n",
        "                  title = 'Train Loss',\n",
        "                  template = 'presentation'\n",
        ")\n",
        "\n",
        "pyo.iplot(scatterplot,filename = 'Act_train_loss')\n",
        "scatterplot.write_html(\"plotly_plot.html\")\n",
        "\n",
        "# Display the HTML file within the Jupyter Notebook\n",
        "HTML(filename=\"plotly_plot.html\")"
      ]
    },
    {
      "cell_type": "code",
      "execution_count": null,
      "metadata": {
        "id": "8sU-dzzcyeVD"
      },
      "outputs": [],
      "source": [
        "scatterplot = px.area(\n",
        "                  data_frame = act,\n",
        "                  x = \"Epochs\",\n",
        "                  y = \"Train_Precision\",\n",
        "                  color =\"Activation_Function\",\n",
        "                  title = 'Train Prec',\n",
        "                  template = 'presentation'\n",
        ")\n",
        "\n",
        "pyo.iplot(scatterplot,filename = 'Act_train_prec')\n",
        "scatterplot.write_html(\"plotly_plot.html\")\n",
        "\n",
        "# Display the HTML file within the Jupyter Notebook\n",
        "HTML(filename=\"plotly_plot.html\")"
      ]
    },
    {
      "cell_type": "code",
      "execution_count": null,
      "metadata": {
        "id": "JtdnHGP4yjyR"
      },
      "outputs": [],
      "source": [
        "scatterplot = px.area(\n",
        "                  data_frame = act,\n",
        "                  x = \"Epochs\",\n",
        "                  y = \"Train_Recall\",\n",
        "                  color =\"Activation_Function\",\n",
        "                  title = 'Train Recall',\n",
        "                  template = 'presentation'\n",
        ")\n",
        "\n",
        "pyo.iplot(scatterplot,filename = 'Act_train_Recall')\n",
        "scatterplot.write_html(\"plotly_plot.html\")\n",
        "\n",
        "# Display the HTML file within the Jupyter Notebook\n",
        "HTML(filename=\"plotly_plot.html\")"
      ]
    },
    {
      "cell_type": "code",
      "source": [
        "import plotly.graph_objects as go\n",
        "tab_opt = opt[opt['Epochs']==10]\n",
        "final_col = np.delete(tab_opt.columns[0:], [0,2])\n",
        "fig = go.Figure(data=[go.Table(\n",
        "    header=dict(values=list(final_col),\n",
        "                fill_color='salmon',\n",
        "                align='left'),\n",
        "    cells=dict(values=[tab_opt.Optimizer , tab_opt.Train_Loss,tab_opt.Train_Accuracy,tab_opt.Train_Precision,tab_opt.Train_Recall,tab_opt.Val_Loss,tab_opt.Val_Accuracy,tab_opt.Val_Precision,tab_opt.Val_Recall],\n",
        "               fill_color='lavender',\n",
        "               align='left'))\n",
        "])\n",
        "\n",
        "fig.show()\n",
        "fig.write_html(\"plotly_plot.html\")\n",
        "\n",
        "# Display the HTML file within the Jupyter Notebook\n",
        "HTML(filename=\"plotly_plot.html\")"
      ],
      "metadata": {
        "id": "2DtFQJZ0EHMo"
      },
      "execution_count": null,
      "outputs": []
    },
    {
      "cell_type": "code",
      "source": [
        "ty = opt[opt['Epochs'] == 10].iloc[:,3:]\n",
        "nm = ty.columns\n",
        "ty = ty.values.tolist()\n",
        "data = []\n",
        "\n",
        "for i in range(len(nm)):\n",
        "  lt = []\n",
        "  for j in range(len(Optimizers)):\n",
        "      lt.append(ty[j][i])\n",
        "\n",
        "  data.append(go.Bar(name = nm[i],x = Optimizers,y = lt))\n",
        "fig = go.Figure(data = data)\n",
        "\n",
        "fig.update_layout(barmode = 'group')\n",
        "# fig.show()\n",
        "fig.write_html(\"plotly_plot.html\")\n",
        "\n",
        "# Display the HTML file within the Jupyter Notebook\n",
        "HTML(filename=\"plotly_plot.html\")"
      ],
      "metadata": {
        "id": "a6NE7guuJYIH"
      },
      "execution_count": null,
      "outputs": []
    },
    {
      "cell_type": "code",
      "source": [
        "tab_opt = act[act['Epochs']==10]\n",
        "final_col = np.delete(tab_opt.columns[0:], [0,1])\n",
        "fig = go.Figure(data=[go.Table(\n",
        "    header=dict(values=list(final_col),\n",
        "                fill_color='salmon',\n",
        "                align='left'),\n",
        "    cells=dict(values=[tab_opt.Activation_Function , tab_opt.Train_Loss,tab_opt.Train_Accuracy,tab_opt.Train_Precision,tab_opt.Train_Recall,tab_opt.Val_Loss,tab_opt.Val_Accuracy,tab_opt.Val_Precision,tab_opt.Val_Recall],\n",
        "               fill_color='lavender',\n",
        "               align='left'))\n",
        "])\n",
        "\n",
        "# fig.show()\n",
        "fig.write_html(\"plotly_plot.html\")\n",
        "\n",
        "# Display the HTML file within the Jupyter Notebook\n",
        "HTML(filename=\"plotly_plot.html\")"
      ],
      "metadata": {
        "id": "4f6rPp-vKO5E"
      },
      "execution_count": null,
      "outputs": []
    },
    {
      "cell_type": "code",
      "source": [
        "ty =act[act['Epochs']==10].iloc[:,3:]\n",
        "nm = ty.columns\n",
        "ty = ty.values.tolist()\n",
        "data = []\n",
        "\n",
        "for j in range(len(nm)):\n",
        "        lt = []\n",
        "        for i in range(len(Activation_Functions)):\n",
        "            lt.append(ty[i][j])\n",
        "\n",
        "        data.append(go.Bar(name = nm[j],x=Activation_Functions, y=lt))\n",
        "fig = go.Figure(data=data)\n",
        "# Change the bar mode\n",
        "fig.update_layout(barmode='group')\n",
        "# fig.show()\n",
        "fig.write_html(\"plotly_plot.html\")\n",
        "\n",
        "# Display the HTML file within the Jupyter Notebook\n",
        "HTML(filename=\"plotly_plot.html\")"
      ],
      "metadata": {
        "id": "5MGkaRKzKZaU"
      },
      "execution_count": null,
      "outputs": []
    },
    {
      "cell_type": "markdown",
      "source": [
        "**FINAL MODEL**\n",
        "\n",
        "\n",
        "---\n",
        "\n",
        "\n",
        "\n",
        "\n",
        "\n"
      ],
      "metadata": {
        "id": "MGLy83wWKe-F"
      }
    },
    {
      "cell_type": "code",
      "source": [
        "def Plot(history , name , model):\n",
        "    model.save(name+'.h5')\n",
        "    epochs = range(1,len(history.history['loss']) + 1)\n",
        "    epochs = list(epochs)\n",
        "    fig = make_subplots(rows=2, cols=4,subplot_titles=(\"Train Loss\", \"Train Accuracy\" , \"Train Precision\",\"Train Recall\", \"Validation Loss\", \"Validation Accuracy\",\n",
        "                                                      \"Validation Precision\",\"Validation Recall\"))\n",
        "    fig.add_trace(go.Scatter(x=epochs, y=history.history['loss']), row=1, col=1)\n",
        "    fig.add_trace(go.Scatter(x=epochs, y=history.history['accuracy']), row=1, col=2)\n",
        "    fig.add_trace(go.Scatter(x=epochs, y=history.history['precision']), row=1, col=3)\n",
        "    fig.add_trace(go.Scatter(x=epochs, y=history.history['recall']), row=1, col=4)\n",
        "    fig.add_trace(go.Scatter(x=epochs, y=history.history['val_loss']), row=2, col=1)\n",
        "    fig.add_trace(go.Scatter(x=epochs, y=history.history['val_accuracy']), row=2, col=2)\n",
        "    fig.add_trace(go.Scatter(x=epochs, y=history.history['val_precision']), row=2, col=3)\n",
        "    fig.add_trace(go.Scatter(x=epochs, y=history.history['val_recall']), row=2, col=4)\n",
        "    fig.update_layout(showlegend=False,height=1000, width=1200, title_text=name)\n",
        "    pyo.iplot(fig, filename = 'Act_train_rec')"
      ],
      "metadata": {
        "id": "dyrzTfTUKp60"
      },
      "execution_count": null,
      "outputs": []
    },
    {
      "cell_type": "code",
      "source": [
        "model = build_model('relu',final_class,w,h)\n",
        "METRICS =   [\n",
        "                'accuracy',\n",
        "                tf.keras.metrics.Precision(name = 'precision'),\n",
        "                tf.keras.metrics.Recall(name = 'recall')\n",
        "]\n",
        "\n",
        "model.compile(\n",
        "            optimizer = 'RMSprop',\n",
        "            loss = 'categorical_crossentropy',\n",
        "            metrics = METRICS\n",
        ")\n",
        "history = model.fit(X_train,y_train,epochs = 50,validation_split = 0.3,batch_size = 15,verbose = 1,shuffle = True)\n"
      ],
      "metadata": {
        "id": "DBzE-DmiK4r1"
      },
      "execution_count": null,
      "outputs": []
    },
    {
      "cell_type": "code",
      "source": [
        "Plot(history,'final_model',model)"
      ],
      "metadata": {
        "id": "NR3WtClALkPn"
      },
      "execution_count": null,
      "outputs": []
    },
    {
      "cell_type": "code",
      "source": [
        "!pip install visualkeras"
      ],
      "metadata": {
        "id": "Ad6K40reK2FM"
      },
      "execution_count": null,
      "outputs": []
    },
    {
      "cell_type": "code",
      "source": [
        "import visualkeras\n",
        "visualkeras.layered_view(model)"
      ],
      "metadata": {
        "id": "ZOY4sk2ELqiw"
      },
      "execution_count": null,
      "outputs": []
    },
    {
      "cell_type": "code",
      "source": [
        "from keras.utils import plot_model\n",
        "plot_model(model,to_file = 'model.png',show_shapes = True)"
      ],
      "metadata": {
        "id": "aM6iah_LLw1e"
      },
      "execution_count": null,
      "outputs": []
    },
    {
      "cell_type": "code",
      "source": [
        "plt.figure(figsize=(25,8))\n",
        "plt.imshow(X[66].reshape(w,h))\n",
        "plt.title(enc.inverse_transform(y[0].reshape(1,10))[0][0],size = 20)\n",
        "plt.show()"
      ],
      "metadata": {
        "id": "LjB0NMdqMij0"
      },
      "execution_count": null,
      "outputs": []
    },
    {
      "cell_type": "code",
      "source": [
        "from keras.models import Model\n",
        "from matplotlib.pyplot import figure\n",
        "from matplotlib import pyplot\n",
        "from numpy import expand_dims\n",
        "def image_transform_gray(image):\n",
        "    img = expand_dims(image, axis=0)\n",
        "    model1 = Model(inputs=model.inputs, outputs=model.layers[0].output)\n",
        "    feature_maps = model1.predict(img)\n",
        "    figure(num=None, figsize=(25, 30), dpi=80, facecolor='w', edgecolor='k')\n",
        "    square = 4\n",
        "    ix = 1\n",
        "    for _ in range(square):\n",
        "        for _ in range(square):\n",
        "            # specify subplot and turn of axis\n",
        "            ax = pyplot.subplot(square, square, ix)\n",
        "            ax.set_xticks([])\n",
        "            ax.set_yticks([])\n",
        "            # plot filter channel in grayscale\n",
        "            pyplot.imshow(feature_maps[0, :, :, ix-1],cmap='gray')\n",
        "            ix += 1\n",
        "    # show the figure\n",
        "    pyplot.show()\n",
        "def image_transform(image):\n",
        "    img = expand_dims(image, axis=0)\n",
        "    model1 = Model(inputs=model.inputs, outputs=model.layers[0].output)\n",
        "    feature_maps = model1.predict(img)\n",
        "    figure(num=None, figsize=(25, 30), dpi=80, facecolor='w', edgecolor='k')\n",
        "    square = 4\n",
        "    ix = 1\n",
        "    for _ in range(square):\n",
        "        for _ in range(square):\n",
        "            # specify subplot and turn of axis\n",
        "            ax = pyplot.subplot(square, square, ix)\n",
        "            ax.set_xticks([])\n",
        "            ax.set_yticks([])\n",
        "            # plot filter channel in grayscale\n",
        "            pyplot.imshow(feature_maps[0, :, :, ix-1])\n",
        "            ix += 1\n",
        "    # show the figure\n",
        "    pyplot.show()"
      ],
      "metadata": {
        "id": "yUq11J2KMmaJ"
      },
      "execution_count": null,
      "outputs": []
    },
    {
      "cell_type": "code",
      "source": [
        "image_transform(X[66])\n",
        "image_transform_gray(X[66])"
      ],
      "metadata": {
        "id": "HZZ8t3VhMsqb"
      },
      "execution_count": null,
      "outputs": []
    },
    {
      "cell_type": "code",
      "source": [
        "plt.figure(figsize=(25,8))\n",
        "plt.imshow(X[56].reshape(w,h))\n",
        "plt.title(enc.inverse_transform(y[0].reshape(1,26))[0][0],size = 20)\n",
        "plt.show()"
      ],
      "metadata": {
        "id": "ukLsXorVMvek"
      },
      "execution_count": null,
      "outputs": []
    },
    {
      "cell_type": "code",
      "source": [
        "image_transform(X[56])\n",
        "image_transform_gray(X[56])"
      ],
      "metadata": {
        "id": "EYl94GEhMyLp"
      },
      "execution_count": null,
      "outputs": []
    },
    {
      "cell_type": "code",
      "source": [
        "plt.figure(figsize=(25,8))\n",
        "plt.imshow(X[1566].reshape(w,h))\n",
        "plt.title(enc.inverse_transform(y[0].reshape(1,26))[0][0],size = 20)\n",
        "plt.show()"
      ],
      "metadata": {
        "id": "zGogzwYOM0wA"
      },
      "execution_count": null,
      "outputs": []
    },
    {
      "cell_type": "code",
      "source": [
        "image_transform(X[156])\n",
        "image_transform_gray(X[156])"
      ],
      "metadata": {
        "id": "yNuN9TbCM3zd"
      },
      "execution_count": null,
      "outputs": []
    },
    {
      "cell_type": "markdown",
      "source": [
        "TEST THE **RESULTS**\n",
        "\n",
        "---\n",
        "\n",
        "\n",
        "\n",
        "---\n",
        "\n",
        "\n",
        "\n",
        "---\n",
        "\n"
      ],
      "metadata": {
        "id": "R6HRnH-rM5py"
      }
    },
    {
      "cell_type": "code",
      "source": [
        "y_pred = model.evaluate(X_test,y_test,verbose = 1)"
      ],
      "metadata": {
        "id": "J20-_9elM_MU"
      },
      "execution_count": null,
      "outputs": []
    },
    {
      "cell_type": "code",
      "source": [
        "y_pred[1]"
      ],
      "metadata": {
        "id": "GXsE9784NHFK"
      },
      "execution_count": null,
      "outputs": []
    },
    {
      "cell_type": "code",
      "source": [
        "history.history['loss'][49]\n",
        "import plotly.graph_objects as go\n",
        "\n",
        "\n",
        "fig = go.Figure(data=[\n",
        "    go.Bar(name = 'Accuracy',x=['Training','Validation','Real World Data'], y=[history.history['accuracy'][49] ,history.history['val_accuracy'][49],y_pred[1] ]),\n",
        "    go.Bar(name = 'Precision',x=['Training','Validation','Real World Data'], y=[history.history['precision'][49] ,history.history['val_precision'][49],y_pred[2] ]),\n",
        "    go.Bar(name = 'Loss',x=['Training','Validation','Real World Data'], y=[history.history['loss'][49] ,history.history['val_loss'][49],y_pred[0] ]),\n",
        "\n",
        "])\n",
        "# Change the bar mode\n",
        "fig.update_layout(barmode='group')\n",
        "fig.update_yaxes(type = \"log\")\n",
        "pyo.iplot(fig, filename = 'Act_train_rec')"
      ],
      "metadata": {
        "id": "Tj-5kNT6NJMu"
      },
      "execution_count": null,
      "outputs": []
    },
    {
      "cell_type": "code",
      "source": [
        "model.predict(X_test)"
      ],
      "metadata": {
        "id": "UyNvrgijNLcr"
      },
      "execution_count": null,
      "outputs": []
    },
    {
      "cell_type": "code",
      "source": [
        "y_pred"
      ],
      "metadata": {
        "id": "UnJ5n-xnNOPZ"
      },
      "execution_count": null,
      "outputs": []
    },
    {
      "cell_type": "code",
      "source": [
        "y_prediction = model.predict(X_test)\n",
        "def binary_classify(y_pred):\n",
        "    for inp in y_pred:\n",
        "        maximum = 0\n",
        "        index = 0\n",
        "        for i in range(26):\n",
        "            if(maximum != max(maximum,inp[i])):\n",
        "                maximum = max(maximum,inp[i])\n",
        "                index = i\n",
        "            inp[i] = 0\n",
        "        inp[index]=1\n",
        "    return y_pred\n",
        "y_prediction  = binary_classify(y_prediction)\n"
      ],
      "metadata": {
        "id": "46PjTaSzNRKr"
      },
      "execution_count": null,
      "outputs": []
    },
    {
      "cell_type": "code",
      "source": [
        "print(enc.inverse_transform(y_test[1].reshape(1,26))[0][0])"
      ],
      "metadata": {
        "id": "MhGubiurOVfo"
      },
      "execution_count": null,
      "outputs": []
    },
    {
      "cell_type": "code",
      "source": [
        "print(y_prediction)"
      ],
      "metadata": {
        "id": "dvZuL_PJPOJJ"
      },
      "execution_count": null,
      "outputs": []
    },
    {
      "cell_type": "code",
      "source": [
        "def create_result(y):\n",
        "    y_final = []\n",
        "    for i in range(y.shape[0]):\n",
        "        y_final.append(enc.inverse_transform(y[i].reshape(1,26))[0][0])\n",
        "    return y_final\n",
        "def remove_none(y , y_pred):\n",
        "    index = []\n",
        "    for i in range(len(y)-1,0,-1):\n",
        "        if y_pred[i] == None :\n",
        "            del y[i]\n",
        "            del y_pred[i]\n",
        "\n",
        "    return y , y_pred\n",
        "def label_encode(y , y_pred):\n",
        "    le = preprocessing.LabelEncoder()\n",
        "    le.fit(y_pred)\n",
        "    print(le.classes_)\n",
        "    y = le.transform(y)\n",
        "    y_pred = le.transform(y_pred)\n",
        "    return y , y_pred\n",
        "\n",
        "y_class_result = create_result(y_prediction)\n",
        "y_class_desired = create_result(y_test)"
      ],
      "metadata": {
        "id": "n-q8RcpFNSPH"
      },
      "execution_count": null,
      "outputs": []
    },
    {
      "cell_type": "code",
      "source": [
        "y_label_desired , y_label_result = label_encode(y_class_desired , y_class_result)"
      ],
      "metadata": {
        "id": "SXxOWnmgNUyo"
      },
      "execution_count": null,
      "outputs": []
    },
    {
      "cell_type": "code",
      "source": [
        "from sklearn.metrics import classification_report\n",
        "tn = []\n",
        "for cat in enc.categories_[0].reshape(26,1):\n",
        "    tn.append(cat[0])\n",
        "target_names = tn\n",
        "print(classification_report(y_label_desired, y_label_result, target_names=target_names))"
      ],
      "metadata": {
        "id": "KoRx_7QINWlC"
      },
      "execution_count": null,
      "outputs": []
    },
    {
      "cell_type": "code",
      "source": [
        "count = 1\n",
        "f = plt.figure(figsize=(20,24))\n",
        "for i in range(20):\n",
        "    ind = random.sample(list(y_label_result),1)[0]\n",
        "    img = X_test[ind]\n",
        "    Class = str(y_class_desired[ind]) + '  vs  '+str(y_class_result[ind])\n",
        "    ax = f.add_subplot(5, 4,count)\n",
        "    ax = plt.imshow(img.reshape(w,h))\n",
        "    ax = plt.title(Class,fontsize= 11)\n",
        "    count = count + 1\n",
        "plt.suptitle(\"Hand Sign Images\", size = 32)\n",
        "plt.show()"
      ],
      "metadata": {
        "id": "5fqyaKYjNYTB"
      },
      "execution_count": null,
      "outputs": []
    },
    {
      "cell_type": "code",
      "source": [],
      "metadata": {
        "id": "cKejjF4r7UxF"
      },
      "execution_count": null,
      "outputs": []
    }
  ],
  "metadata": {
    "accelerator": "GPU",
    "colab": {
      "provenance": []
    },
    "kernelspec": {
      "display_name": "Python 3",
      "name": "python3"
    },
    "language_info": {
      "name": "python"
    }
  },
  "nbformat": 4,
  "nbformat_minor": 0
}